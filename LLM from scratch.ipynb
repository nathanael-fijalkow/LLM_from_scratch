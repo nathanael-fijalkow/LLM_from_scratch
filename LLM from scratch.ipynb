{
 "cells": [
  {
   "cell_type": "markdown",
   "id": "aee500dc",
   "metadata": {
    "slideshow": {
     "slide_type": "slide"
    }
   },
   "source": [
    "# LLM from scratch"
   ]
  },
  {
   "cell_type": "markdown",
   "id": "29ab15cf",
   "metadata": {
    "slideshow": {
     "slide_type": "slide"
    }
   },
   "source": [
    "The goal is to code from scratch (using Pytorch) a Transformer, more precisely a GPT-like model (using a decoder-only architecture). See discussion at the end for what's missing to build a full blown LLM."
   ]
  },
  {
   "cell_type": "markdown",
   "id": "85d1d489",
   "metadata": {
    "slideshow": {
     "slide_type": "slide"
    }
   },
   "source": [
    "Credits and references: \n",
    "* I strongly recommend Andrej Karpathy's lectures, videos, and repositories, in particular\n",
    "https://github.com/karpathy/nn-zero-to-hero\n",
    "https://github.com/karpathy/makemore\n",
    "* A fantastic reference which goes in a lot more depth, is Sebastian Raschka's book and codebase:\n",
    "https://github.com/rasbt/LLMs-from-scratch\n",
    "Most illustrations below are from the book.\n",
    "\n",
    "Full notebook: https://github.com/nathanael-fijalkow/LLM_from_scratch"
   ]
  },
  {
   "cell_type": "code",
   "execution_count": 1,
   "id": "6ef709fb",
   "metadata": {
    "slideshow": {
     "slide_type": "slide"
    }
   },
   "outputs": [],
   "source": [
    "import torch\n",
    "import torch.nn as nn\n",
    "from torch.nn import functional as F\n",
    "import matplotlib.pyplot as plt\n",
    "%matplotlib inline\n",
    "\n",
    "from tqdm.notebook import trange"
   ]
  },
  {
   "cell_type": "markdown",
   "id": "37136931",
   "metadata": {
    "slideshow": {
     "slide_type": "slide"
    }
   },
   "source": [
    "What we will do here: train a generative model with Bob Dylan's songs. The goal is to generate more songs!"
   ]
  },
  {
   "cell_type": "code",
   "execution_count": 2,
   "id": "6a081d49",
   "metadata": {
    "slideshow": {
     "slide_type": "slide"
    }
   },
   "outputs": [],
   "source": [
    "batch_size = 64 # number of sequences processed in parallel\n",
    "n_token = 512 # number of tokens (used for the tokenizer)"
   ]
  },
  {
   "cell_type": "markdown",
   "id": "06f4014a",
   "metadata": {
    "slideshow": {
     "slide_type": "skip"
    }
   },
   "source": [
    "## Part 1: Playing with the dataset"
   ]
  },
  {
   "cell_type": "markdown",
   "id": "5bf30164",
   "metadata": {
    "slideshow": {
     "slide_type": "skip"
    }
   },
   "source": [
    "Let's download the dataset."
   ]
  },
  {
   "cell_type": "code",
   "execution_count": 3,
   "id": "a1a95e31",
   "metadata": {},
   "outputs": [],
   "source": [
    "from datasets import load_dataset\n",
    "ds = load_dataset(\"huggingartists/bob-dylan\", split=\"train\")\n",
    "ds = ds.train_test_split(test_size=0.1)"
   ]
  },
  {
   "cell_type": "code",
   "execution_count": 4,
   "id": "c54411bb",
   "metadata": {},
   "outputs": [
    {
     "data": {
      "text/plain": [
       "DatasetDict({\n",
       "    train: Dataset({\n",
       "        features: ['text'],\n",
       "        num_rows: 2016\n",
       "    })\n",
       "    test: Dataset({\n",
       "        features: ['text'],\n",
       "        num_rows: 225\n",
       "    })\n",
       "})"
      ]
     },
     "execution_count": 4,
     "metadata": {},
     "output_type": "execute_result"
    }
   ],
   "source": [
    "ds"
   ]
  },
  {
   "cell_type": "code",
   "execution_count": 5,
   "id": "707cd887",
   "metadata": {},
   "outputs": [
    {
     "data": {
      "text/plain": [
       "{'text': 'If today were not an endless highway\\nIf tonight were not a crooked trail\\nIf tomorrow were not such a long time\\nThen the lonesome would mean nothing to me at all\\nAnd if my own true love were only waiting for me\\nAnd if I could hear her heart softly pounding\\nIf only she were lying by me\\nThen I could sleep in my bed once again\\nI cant see my reflection in the water\\nCant speak the sounds that show no pain\\nI cant hear the echo\\nCant remember the sound of my own name\\nAnd if my own true love were only waiting for me\\nAnd if I could hear her heart softly pounding\\nIf only she were lying by me\\nThen I could sleep in my bed once again\\nTheres beauty in the silver, singing river\\nTheres beauty in the sunrise in the sky\\nNone of these can match the beauty\\nThat I remember in my true loves eyes\\nAnd if my own true love were only waiting for me\\nAnd if I could hear her heart softly pounding\\nIf only she were lying by me\\nThen I could sleep in my bed once again'}"
      ]
     },
     "execution_count": 5,
     "metadata": {},
     "output_type": "execute_result"
    }
   ],
   "source": [
    "ds[\"train\"][12]"
   ]
  },
  {
   "cell_type": "markdown",
   "id": "3b07d0c7",
   "metadata": {
    "slideshow": {
     "slide_type": "skip"
    }
   },
   "source": [
    "## Part 2: Word-level tokenizer"
   ]
  },
  {
   "cell_type": "markdown",
   "id": "1efdc19e",
   "metadata": {
    "slideshow": {
     "slide_type": "skip"
    }
   },
   "source": [
    "The science of decomposing a text into tokens is a complicated one. Here we use `minbpe`, which implements the Byte Pair Encoding (BPE) algorithm commonly used in LLM tokenization."
   ]
  },
  {
   "cell_type": "code",
   "execution_count": 6,
   "id": "d47e963c",
   "metadata": {
    "slideshow": {
     "slide_type": "skip"
    }
   },
   "outputs": [],
   "source": [
    "from minbpe.minbpe import RegexTokenizer"
   ]
  },
  {
   "cell_type": "code",
   "execution_count": 7,
   "id": "6ffbf657",
   "metadata": {},
   "outputs": [
    {
     "data": {
      "text/plain": [
       "'to me my country pie\\nI wont throw it up in anybodys face\\nShake me up that old peach tree\\nLittle Ja'"
      ]
     },
     "execution_count": 7,
     "metadata": {},
     "output_type": "execute_result"
    }
   ],
   "source": [
    "partial_text = \"\\n\".join(ds[\"train\"][x][\"text\"] for x in range(20))\n",
    "partial_text[502:600]"
   ]
  },
  {
   "cell_type": "code",
   "execution_count": 8,
   "id": "1d9fe3ed",
   "metadata": {},
   "outputs": [],
   "source": [
    "tokenizer = RegexTokenizer()\n",
    "tokenizer.train(partial_text, 512, verbose=False)"
   ]
  },
  {
   "cell_type": "markdown",
   "id": "8be0494d",
   "metadata": {
    "slideshow": {
     "slide_type": "skip"
    }
   },
   "source": [
    "We encode the entire text datasets and store them into `torch.Tensor`."
   ]
  },
  {
   "cell_type": "code",
   "execution_count": 9,
   "id": "01141736",
   "metadata": {
    "slideshow": {
     "slide_type": "slide"
    }
   },
   "outputs": [
    {
     "data": {
      "text/plain": [
       "(torch.Size([1240283]),\n",
       " tensor([ 74, 343, 400, 354, 502,  97, 120, 503, 104, 344,  32,  74, 111, 101,\n",
       "          10, 504, 299, 115, 428, 264, 290, 111, 103, 115, 257, 319, 413, 311,\n",
       "         505, 280, 101,  10, 406, 301,  44, 289, 104, 297,  10,  76, 111, 291,\n",
       "         320, 414, 441, 386, 285, 325,  10,  76]))"
      ]
     },
     "execution_count": 9,
     "metadata": {},
     "output_type": "execute_result"
    }
   ],
   "source": [
    "train_data = \"\\n\".join(ds[\"train\"][x][\"text\"] for x in range(ds[\"train\"].num_rows))\n",
    "test_data = \"\\n\".join(ds[\"test\"][x][\"text\"] for x in range(ds[\"test\"].num_rows))\n",
    "\n",
    "train_data = torch.tensor(tokenizer.encode(train_data), dtype=torch.long)\n",
    "test_data = torch.tensor(tokenizer.encode(test_data), dtype=torch.long)\n",
    "\n",
    "train_data.shape, train_data[:50]"
   ]
  },
  {
   "cell_type": "code",
   "execution_count": 10,
   "id": "4f52b388",
   "metadata": {
    "slideshow": {
     "slide_type": "slide"
    }
   },
   "outputs": [
    {
     "data": {
      "text/plain": [
       "([257, 265, 111, 268, 300, 310],\n",
       " ['he', 'll', 'o', ' w', 'or', 'ld'],\n",
       " 'hello world')"
      ]
     },
     "execution_count": 10,
     "metadata": {},
     "output_type": "execute_result"
    }
   ],
   "source": [
    "test = \"hello world\"\n",
    "test_encoded = tokenizer.encode(test)\n",
    "test_encoded, [tokenizer.decode([x]) for x in test_encoded], tokenizer.decode(test_encoded)"
   ]
  },
  {
   "cell_type": "markdown",
   "id": "de89dcdf",
   "metadata": {
    "slideshow": {
     "slide_type": "skip"
    }
   },
   "source": [
    "The longest tokens:"
   ]
  },
  {
   "cell_type": "code",
   "execution_count": 11,
   "id": "9a1edc56",
   "metadata": {
    "slideshow": {
     "slide_type": "slide"
    }
   },
   "outputs": [
    {
     "data": {
      "text/plain": [
       "[' watchtow',\n",
       " ' rolling',\n",
       " ' played',\n",
       " ' friend',\n",
       " ' watcht',\n",
       " ' gonna',\n",
       " ' knick',\n",
       " '-knack',\n",
       " ' every',\n",
       " ' going',\n",
       " ' there',\n",
       " ' along',\n",
       " ' watch',\n",
       " ' that',\n",
       " ' your',\n",
       " ' with',\n",
       " ' play',\n",
       " ' gonn',\n",
       " ' time',\n",
       " ' down']"
      ]
     },
     "execution_count": 11,
     "metadata": {},
     "output_type": "execute_result"
    }
   ],
   "source": [
    "token_list = sorted([tokenizer.decode([x]) for x in range(n_token)], \n",
    "                    key=len, \n",
    "                    reverse=True)\n",
    "token_list[:20]"
   ]
  },
  {
   "cell_type": "markdown",
   "id": "39b0c72f",
   "metadata": {
    "slideshow": {
     "slide_type": "skip"
    }
   },
   "source": [
    "## Part 3: Evaluating and training with batches"
   ]
  },
  {
   "cell_type": "code",
   "execution_count": 12,
   "id": "0a4c5514",
   "metadata": {},
   "outputs": [
    {
     "name": "stdout",
     "output_type": "stream",
     "text": [
      "cpu\n"
     ]
    }
   ],
   "source": [
    "device = torch.device(\"cuda\" if torch.cuda.is_available() else \"cpu\")\n",
    "print(device)"
   ]
  },
  {
   "cell_type": "markdown",
   "id": "736d4a2c",
   "metadata": {
    "slideshow": {
     "slide_type": "slide"
    }
   },
   "source": [
    "Our models will take as input `context_length` many tokens and produce the next token."
   ]
  },
  {
   "cell_type": "code",
   "execution_count": 13,
   "id": "4c5030cb",
   "metadata": {
    "scrolled": true,
    "slideshow": {
     "slide_type": "subslide"
    }
   },
   "outputs": [
    {
     "name": "stdout",
     "output_type": "stream",
     "text": [
      "Input:  [101, 384, 356, 115, 271, 10, 369, 284, 109, 404, 114, 339, 10, 406, 44, 335, 115, 263, 111, 290, 318, 44, 263, 111, 270, 101, 102, 321, 115, 388, 10, 418, 115, 32, 91, 63, 125, 44, 284, 263, 119, 101, 316, 293, 287, 277, 422, 10, 360, 467, 263, 257, 115, 380, 288, 264, 270, 101, 272, 104, 326, 301, 10, 87] \n",
      "Target:  340\n",
      "\n",
      "Human version:\n",
      "Input:  e time loser\n",
      "But Im alright\n",
      "Oh, its so high, so defensive\n",
      "Its [?}, I swear this gal\n",
      "You know shes gonna be the death of me\n",
      "W \n",
      "Target:  ell\n"
     ]
    }
   ],
   "source": [
    "context_length_test = 64\n",
    "ix = torch.randint(len(train_data) - context_length_test, (1,))\n",
    "sample = train_data[ix:ix+context_length_test+1]\n",
    "sample_list = sample.tolist()\n",
    "print(\"Input: \", sample_list[:-1], \n",
    "      \"\\nTarget: \", sample_list[-1])\n",
    "print(\"\\nHuman version:\\nInput: \", tokenizer.decode(sample_list[:-1]), \n",
    "      \"\\nTarget: \", tokenizer.decode([sample_list[-1]]))"
   ]
  },
  {
   "cell_type": "code",
   "execution_count": null,
   "id": "b230feed",
   "metadata": {
    "slideshow": {
     "slide_type": "slide"
    }
   },
   "outputs": [],
   "source": [
    "def get_batch(split, context_length):\n",
    "    data = train_data if split == 'train' else test_data\n",
    "    ix = torch.randint(len(data) - context_length - 1, (batch_size,))\n",
    "    X = torch.stack([data[i:i+context_length] for i in ix])\n",
    "    Y = torch.stack([data[i+1:i+context_length+1] for i in ix])\n",
    "    return X, Y\n",
    "\n",
    "X,Y = get_batch(\"train\", 8)\n",
    "X.shape, Y.shape"
   ]
  },
  {
   "cell_type": "markdown",
   "id": "1eae7678",
   "metadata": {
    "slideshow": {
     "slide_type": "skip"
    }
   },
   "source": [
    "We illustrate below how the cross entropy loss is computed along batches (as the mean over the batches). The same works for most functions in Pytorch, which means that writing code for batches is almost as easy as without!"
   ]
  },
  {
   "cell_type": "code",
   "execution_count": 14,
   "id": "a97afb12",
   "metadata": {
    "slideshow": {
     "slide_type": "skip"
    }
   },
   "outputs": [
    {
     "name": "stdout",
     "output_type": "stream",
     "text": [
      "logits:  tensor([[ 1.4600, -0.5697,  0.9108, -0.1985, -0.7940],\n",
      "        [-0.6241, -1.0471,  2.4603,  1.9540, -0.3306],\n",
      "        [ 0.4363,  0.6075, -1.5104,  0.5921, -1.3629]]) \n",
      "target:  tensor([3, 3, 4]) \n",
      "loss:  2.170518636703491\n"
     ]
    }
   ],
   "source": [
    "batch_size_test = 3\n",
    "n_token_test = 5\n",
    "\n",
    "logits = torch.randn(batch_size_test, n_token_test)\n",
    "target = torch.randint(n_token_test, (batch_size_test,), dtype=torch.int64)\n",
    "loss = F.cross_entropy(logits, target)\n",
    "print(\"logits: \", logits, \"\\ntarget: \", target, \"\\nloss: \", loss.item())"
   ]
  },
  {
   "cell_type": "markdown",
   "id": "5821f7ed",
   "metadata": {
    "slideshow": {
     "slide_type": "skip"
    }
   },
   "source": [
    "Let us write the boilerplate code for models."
   ]
  },
  {
   "cell_type": "code",
   "execution_count": 15,
   "id": "86666e05",
   "metadata": {
    "slideshow": {
     "slide_type": "skip"
    }
   },
   "outputs": [],
   "source": [
    "def estimate_loss(model, eval_iters):\n",
    "    out = {}\n",
    "    for split in ['train', 'val']:\n",
    "        losses = torch.zeros(eval_iters)\n",
    "        for k in range(eval_iters):\n",
    "            X, Y = get_batch(split, model.context_length)\n",
    "            logits, loss = model(X, Y)\n",
    "            losses[k] = loss.item()\n",
    "        out[split] = losses.mean()\n",
    "    return out"
   ]
  },
  {
   "cell_type": "markdown",
   "id": "7d24cc8f",
   "metadata": {
    "slideshow": {
     "slide_type": "slide"
    }
   },
   "source": [
    "The code below for training is very generic. We iterate a number of times:\n",
    "* sample data `(X,Y)` (we write `(X,Y)` for batches, and `(x,y)` for a single datapoint) \n",
    "* forward pass: compute the loss on `(X,Y)`\n",
    "* reset the gradients for all parameters\n",
    "* backward pass: compute the gradients, using `loss.backward()`\n",
    "* run one step of gradient descent (here, the refined Adam optimizer, which adapts the learning rate)\n",
    "\n",
    "When doing the forward pass, Pytorch creates computation graphs which are then used to compute the gradients."
   ]
  },
  {
   "cell_type": "code",
   "execution_count": 16,
   "id": "548f60c9",
   "metadata": {
    "slideshow": {
     "slide_type": "skip"
    }
   },
   "outputs": [],
   "source": [
    "def train(model, n_iterations, learning_rate, eval_interval, eval_iters):\n",
    "    # create a PyTorch optimizer\n",
    "    optimizer = torch.optim.AdamW(model.parameters(), lr=learning_rate)\n",
    "\n",
    "    for iter in range(n_iterations):\n",
    "        # every once in a while evaluate the loss on train and validation sets\n",
    "        if iter % eval_interval == 0 or iter == n_iterations - 1:\n",
    "            with torch.no_grad():\n",
    "                losses = estimate_loss(model, eval_iters)\n",
    "            print(f\"step {iter}: train loss {losses['train']:.4f}, validation loss {losses['val']:.4f}\")\n",
    "\n",
    "        X,Y = get_batch(\"train\", model.context_length)\n",
    "        X.to(device)\n",
    "        Y.to(device)\n",
    "        _, loss = model(X, Y)\n",
    "        optimizer.zero_grad(set_to_none=True)\n",
    "        loss.backward()\n",
    "        optimizer.step()"
   ]
  },
  {
   "cell_type": "markdown",
   "id": "1f6763e6",
   "metadata": {
    "slideshow": {
     "slide_type": "skip"
    }
   },
   "source": [
    "## Part 4: A Multi Layer Perceptron (MLP) model"
   ]
  },
  {
   "cell_type": "markdown",
   "id": "bf539672",
   "metadata": {
    "slideshow": {
     "slide_type": "skip"
    }
   },
   "source": [
    "We essentially implement the model from the paper \"**A Neural Probabilistic Language Model**\" by Bengio et al from 2003.\n",
    "\n",
    "The first component is an `Embedding` layer: this is simply a lookup table, as illustrated below. It maps every token to a vector in fixed dimension. Since the dimension is much smaller than the number of tokens, intuitively the embedding layer will have to map similar tokens to similar vectors."
   ]
  },
  {
   "cell_type": "code",
   "execution_count": 17,
   "id": "a0845733",
   "metadata": {
    "scrolled": true,
    "slideshow": {
     "slide_type": "skip"
    }
   },
   "outputs": [
    {
     "name": "stdout",
     "output_type": "stream",
     "text": [
      "Weights of the embedding:\n",
      " Parameter containing:\n",
      "tensor([[-1.0390, -0.9249,  0.4335, -0.5309],\n",
      "        [ 0.5942,  0.5029, -1.5714, -0.3394],\n",
      "        [-0.7615,  0.0230, -0.6510, -0.7321]], requires_grad=True)\n",
      "Result of embedding token number 1:\n",
      " tensor([[ 0.5942,  0.5029, -1.5714, -0.3394]], grad_fn=<EmbeddingBackward0>)\n"
     ]
    }
   ],
   "source": [
    "n_token_test = 3\n",
    "n_embed_test = 4\n",
    "\n",
    "embedding = torch.nn.Embedding(n_token_test, n_embed_test)\n",
    "print(\"Weights of the embedding:\\n\", embedding.weight)\n",
    "print(\"Result of embedding token number 1:\\n\", embedding(torch.tensor([1])))"
   ]
  },
  {
   "cell_type": "markdown",
   "id": "180d5752",
   "metadata": {
    "slideshow": {
     "slide_type": "skip"
    }
   },
   "source": [
    "Let us describe how the model works. \n",
    "\n",
    "Recall that a datapoint is a tensor `x` of size `context_length`. Each of the `context_length` token is embedded, yielding a tensor of dimension `n_embed`. The resulting embeddings are concatenated to form a tensor of dimension `context_length * n_embed`, and then fed into a standard feed forward network. This is illustrated below (minus the network), with batches."
   ]
  },
  {
   "cell_type": "code",
   "execution_count": 18,
   "id": "8c5d7dd4",
   "metadata": {
    "slideshow": {
     "slide_type": "skip"
    }
   },
   "outputs": [
    {
     "name": "stdout",
     "output_type": "stream",
     "text": [
      "Input tokens:\n",
      " tensor([[2, 2, 1],\n",
      "        [1, 1, 2]])\n",
      "Weights of the embedding:\n",
      " Parameter containing:\n",
      "tensor([[ 1.7433, -0.9162, -0.6442,  1.5750,  0.3102],\n",
      "        [-0.0613, -0.2082, -0.6025,  0.4985,  0.0975],\n",
      "        [-0.0175, -0.8552,  0.6297,  1.7143,  1.3531],\n",
      "        [-0.6487,  0.9387, -0.3936, -1.1388, -1.2166],\n",
      "        [ 1.0582,  0.5541, -1.1084, -0.2268,  1.3405]], requires_grad=True)\n",
      "*******************\n",
      "\n"
     ]
    },
    {
     "data": {
      "text/plain": [
       "(torch.Size([2, 3, 5]),\n",
       " tensor([[[-0.0175, -0.8552,  0.6297,  1.7143,  1.3531],\n",
       "          [-0.0175, -0.8552,  0.6297,  1.7143,  1.3531],\n",
       "          [-0.0613, -0.2082, -0.6025,  0.4985,  0.0975]],\n",
       " \n",
       "         [[-0.0613, -0.2082, -0.6025,  0.4985,  0.0975],\n",
       "          [-0.0613, -0.2082, -0.6025,  0.4985,  0.0975],\n",
       "          [-0.0175, -0.8552,  0.6297,  1.7143,  1.3531]]],\n",
       "        grad_fn=<EmbeddingBackward0>))"
      ]
     },
     "execution_count": 18,
     "metadata": {},
     "output_type": "execute_result"
    }
   ],
   "source": [
    "batch_size_test = 2\n",
    "context_length_test = 3\n",
    "n_token_test = 4\n",
    "n_embed_test = 5\n",
    "\n",
    "blank_token_test = n_token_test\n",
    "\n",
    "idx = torch.randint(high = n_token_test, size = (batch_size_test, context_length_test))\n",
    "print(\"Input tokens:\\n\", idx)\n",
    "embedding = torch.nn.Embedding(n_token_test + 1, n_embed_test)\n",
    "print(\"Weights of the embedding:\\n\", embedding.weight)\n",
    "\n",
    "print(\"*******************\\n\")\n",
    "\n",
    "x = embedding(idx)\n",
    "x.shape, x"
   ]
  },
  {
   "cell_type": "code",
   "execution_count": 19,
   "id": "2831e1fa",
   "metadata": {
    "slideshow": {
     "slide_type": "skip"
    }
   },
   "outputs": [],
   "source": [
    "class MLP(nn.Module):\n",
    "    def __init__(self,\n",
    "                 context_length = 32,\n",
    "                 n_embed = 64, \n",
    "                 n_hidden = 512):\n",
    "        super().__init__()\n",
    "        self.context_length = context_length\n",
    "        self.n_embed = n_embed\n",
    "        self.n_hidden = n_hidden\n",
    "        self.model_type = \"MLP\"\n",
    "        self.token_embedding_table = nn.Embedding(n_token, n_embed)\n",
    "        self.net = nn.Sequential(\n",
    "            nn.Linear(context_length * n_embed, n_hidden),\n",
    "            nn.Tanh(),\n",
    "            nn.Linear(n_hidden, n_token)\n",
    "        )\n",
    "\n",
    "    def forward(self, idx, y=None):\n",
    "        B, T = idx.shape\n",
    "        # if training: B = batch_size, otherwise B = 1\n",
    "        # T = context_length\n",
    "\n",
    "        x = self.token_embedding_table(idx).view(B, -1)\n",
    "        # x.shape = (B, T * n_embed)\n",
    "        \n",
    "        logits = self.net(x) \n",
    "        # logits.shape = (B, n_token)\n",
    "        \n",
    "        if y is None:\n",
    "            loss = None\n",
    "        else:\n",
    "            # y.shape = (B, T)\n",
    "            logits = logits.view(B, -1)\n",
    "            # we only consider the last token for prediction\n",
    "            y = y[:,-1].view(B)\n",
    "            loss = F.cross_entropy(logits, y)\n",
    "        return logits, loss "
   ]
  },
  {
   "cell_type": "markdown",
   "id": "36c9af4e",
   "metadata": {
    "slideshow": {
     "slide_type": "skip"
    }
   },
   "source": [
    "The code below illustrates how cross entropy loss is computed.\n",
    "\n",
    "We start from a pair `(x,y)`, where `x` is an input and `y` the target output. For the bigram model, `x` and `y` are consecutive tokens in our training data.\n",
    "The output of our model on input `x` will be some tensor `logits`. It assigns to each class (here, a class is a token) a float value. The `logits` are turned into a probabilistic distribution using a softmax (exponentiation and normalisation). For numerical stability we prefer to work with \"log probabilities\" as summing numbers is easier than multiplying them."
   ]
  },
  {
   "cell_type": "code",
   "execution_count": 20,
   "id": "3ab432fa",
   "metadata": {
    "slideshow": {
     "slide_type": "skip"
    }
   },
   "outputs": [
    {
     "name": "stdout",
     "output_type": "stream",
     "text": [
      "The logits: \n",
      " tensor([-0.5297, -0.7237,  0.6155, -3.1797,  2.7372])\n",
      "After exponentiation: \n",
      " tensor([ 0.5888,  0.4849,  1.8505,  0.0416, 15.4437])\n",
      "After normalisation: \n",
      " tensor([0.0320, 0.0263, 0.1005, 0.0023, 0.8389])\n",
      "\n",
      "The two steps above are called softmax: \n",
      " tensor([0.0320, 0.0263, 0.1005, 0.0023, 0.8389])\n",
      "\n",
      "Let us consider a target y:  0\n",
      "The cross entropy loss between logits and y is:  3.442582845687866\n",
      "\n",
      "This is the -log probabilities: \n",
      " tensor([3.4426, 3.6366, 2.2974, 6.0925, 0.1757])\n"
     ]
    }
   ],
   "source": [
    "n_token_test = 5\n",
    "\n",
    "logits = torch.randn(n_token_test)\n",
    "print(\"The logits: \\n\", logits)\n",
    "logits_exped = logits.exp()\n",
    "print(\"After exponentiation: \\n\", logits_exped)\n",
    "probs = logits_exped / logits_exped.sum()\n",
    "print(\"After normalisation: \\n\", probs)\n",
    "print(\"\\nThe two steps above are called softmax: \\n\", F.softmax(logits, 0))\n",
    "\n",
    "y = torch.randint(n_token_test, (), dtype=torch.int64)\n",
    "print(\"\\nLet us consider a target y: \", y.item())\n",
    "\n",
    "loss = F.cross_entropy(logits, y)\n",
    "print(\"The cross entropy loss between logits and y is: \", loss.item())\n",
    "\n",
    "logprobs = -probs.log()\n",
    "print(\"\\nThis is the -log probabilities: \\n\", logprobs)\n"
   ]
  },
  {
   "cell_type": "code",
   "execution_count": 21,
   "id": "83235d51",
   "metadata": {
    "slideshow": {
     "slide_type": "skip"
    }
   },
   "outputs": [
    {
     "name": "stdout",
     "output_type": "stream",
     "text": [
      "1.344512  M parameters\n"
     ]
    }
   ],
   "source": [
    "model = MLP(context_length = 32,\n",
    "            n_embed = 64, \n",
    "            n_hidden = 512)\n",
    "model.to(device)\n",
    "print(sum(p.numel() for p in model.parameters())/1e6, ' M parameters')"
   ]
  },
  {
   "cell_type": "code",
   "execution_count": 22,
   "id": "78a3c4b3",
   "metadata": {
    "slideshow": {
     "slide_type": "skip"
    }
   },
   "outputs": [],
   "source": [
    "def generate(model, context_length, max_new_tokens = 2000, topk = 5):\n",
    "    idx = torch.ones((1, context_length), dtype=torch.long) * tokenizer.encode(\"\\n\")[0]\n",
    "    idx = idx.to(device)\n",
    "    for _ in range(max_new_tokens):\n",
    "        # we crop at context_length\n",
    "        idx_cond = idx[:, -context_length:]\n",
    "        # forward pass\n",
    "        logits, _ = model(idx_cond)\n",
    "        \n",
    "        # for MLP:\n",
    "        # logits.shape = (batch_size, context_length, n_token)\n",
    "        # for Transformers:\n",
    "        # logits.shape = (batch_size, n_token)\n",
    "        if model.type == \"sliding windows\":\n",
    "            logits = logits[:,-1,:]\n",
    "\n",
    "        # topk\n",
    "        v, _ = torch.topk(logits, topk)\n",
    "        logits[logits < v[:, [-1]]] = -float('Inf')\n",
    "\n",
    "        # apply softmax to convert logits to (normalized) probabilities\n",
    "        probs = F.softmax(logits, dim=-1)\n",
    "        # sample from the distribution\n",
    "        idx_next = torch.multinomial(probs, num_samples=1).view((1,1))\n",
    "        # append sampled index to the running sequence and continue\n",
    "        idx = torch.cat((idx, idx_next), dim=1)\n",
    "    return tokenizer.decode(idx[0][context_length:].tolist())"
   ]
  },
  {
   "cell_type": "code",
   "execution_count": 23,
   "id": "09956f5c",
   "metadata": {
    "scrolled": true,
    "slideshow": {
     "slide_type": "skip"
    }
   },
   "outputs": [
    {
     "name": "stdout",
     "output_type": "stream",
     "text": [
      " le\u001d",
      "\u001d",
      "ack if��m will in in willherack�akeakeive I sa sa too will on�:dV of�`onn� kn� stor� are pWhoigh�O�&TIYou3\n"
     ]
    }
   ],
   "source": [
    "print(generate(model, model.context_length, max_new_tokens = 50))"
   ]
  },
  {
   "cell_type": "code",
   "execution_count": null,
   "id": "214d556f",
   "metadata": {
    "slideshow": {
     "slide_type": "skip"
    }
   },
   "outputs": [],
   "source": [
    "train(model, \n",
    "      n_iterations = 2000,\n",
    "      learning_rate = 1e-3,\n",
    "      eval_interval = 1000,\n",
    "      eval_iters = 100)"
   ]
  },
  {
   "cell_type": "code",
   "execution_count": 24,
   "id": "8906962b",
   "metadata": {
    "slideshow": {
     "slide_type": "skip"
    }
   },
   "outputs": [
    {
     "name": "stdout",
     "output_type": "stream",
     "text": [
      " if andTh will if�\u001d",
      "\u001d",
      " if all willThThen too� aRm sa����\u0004Thh if dX watcht`\u0006knzandontighoingit�ThenatA�*ig you2ill out his� canain watch3�\u0003 hx wh?\n",
      " going getN re�oundkeIf\f",
      "\u000b",
      " her�� pill that�#�� anHe�R��il notone6�{ is�d�cQ� g came� dont Sgh see<�)en’\u001bh just \u0001�odyzAll�+� u isYou\u0010 d fr’s,int� outur�ee�� sp th aint your�\u001b going�ough] timeR\u0017O be�Then\u000fIt mall+B\u001d",
      " gotown� S�S watolce��* can\r",
      "ound\u000fouid� j0or� frie�enWhenot�\u0004 k you loAll\n"
     ]
    }
   ],
   "source": [
    "print(generate(model, model.context_length, max_new_tokens = 200))"
   ]
  },
  {
   "cell_type": "markdown",
   "id": "1d35bfd6",
   "metadata": {
    "slideshow": {
     "slide_type": "skip"
    }
   },
   "source": [
    "## Part 6: Attention mechanism"
   ]
  },
  {
   "cell_type": "markdown",
   "id": "61e5ad87",
   "metadata": {
    "slideshow": {
     "slide_type": "slide"
    }
   },
   "source": [
    "### A self-attention head"
   ]
  },
  {
   "cell_type": "markdown",
   "id": "fe56c794",
   "metadata": {
    "slideshow": {
     "slide_type": "slide"
    }
   },
   "source": [
    "The input of the head is for each token a tensor of dimension `head_input_dim`, forming a tensor `x: (context_length,head_input_dim)`.\n",
    "The goal is to compute for each token a context tensor, so a tensor `z: (context_length,head_output_dim)`. The context tensor for token `i` will be a weighted average of all input tensors multiplied by their so-called \"affinity scores\". More precisely, for computing the context tensor for token `i`, we compute the affinity of `i` with each token `j`, and multiply the input of `j` by the affinity of `i` for `j`."
   ]
  },
  {
   "cell_type": "markdown",
   "id": "b87d6e5c",
   "metadata": {
    "slideshow": {
     "slide_type": "slide"
    }
   },
   "source": [
    "The scaling issue: we need to renormalise, otherwise `q @ k` has large variance, and fed into the softmax it becomes almost a Dirac distribution. That's why we do \"scaled attention\": we additional divide `weights` by `1/sqrt(head_size)`. This makes it so when input `q,k` have unit variance, `weights` will have unit variance too and softmax will stay diffuse and not saturate too much. Illustrations below"
   ]
  },
  {
   "cell_type": "code",
   "execution_count": 45,
   "id": "a0ad8f3d",
   "metadata": {
    "slideshow": {
     "slide_type": "slide"
    }
   },
   "outputs": [
    {
     "data": {
      "text/plain": [
       "(tensor(0.2960, grad_fn=<VarBackward0>),\n",
       " tensor(0.2569, grad_fn=<VarBackward0>),\n",
       " tensor(0.0804, grad_fn=<VarBackward0>))"
      ]
     },
     "execution_count": 45,
     "metadata": {},
     "output_type": "execute_result"
    }
   ],
   "source": [
    "B = 4 # batch_size\n",
    "T = 8 # context_length\n",
    "I = 2 # head_input_dim\n",
    "H = 16 # head_size\n",
    "\n",
    "x = torch.randn(B, T, I)\n",
    "\n",
    "key = nn.Linear(I, H, bias=False)\n",
    "query = nn.Linear(I, H, bias=False)\n",
    "k = key(x)   # (B, T, H)\n",
    "q = query(x) # (B, T, H)\n",
    "weights =  q @ k.transpose(1, 2) * H**-.5\n",
    "\n",
    "k.var(), q.var(), weights.var()"
   ]
  },
  {
   "cell_type": "markdown",
   "id": "82b7cf7d",
   "metadata": {
    "slideshow": {
     "slide_type": "slide"
    }
   },
   "source": [
    "Illustration of `softmax` sensitivity to large numbers:"
   ]
  },
  {
   "cell_type": "code",
   "execution_count": 46,
   "id": "d7006796",
   "metadata": {
    "scrolled": true,
    "slideshow": {
     "slide_type": "slide"
    }
   },
   "outputs": [
    {
     "data": {
      "text/plain": [
       "tensor([0.1997, 0.1479, 0.1338, 0.2207, 0.2979])"
      ]
     },
     "execution_count": 46,
     "metadata": {},
     "output_type": "execute_result"
    }
   ],
   "source": [
    "torch.softmax(torch.tensor([0.1, -0.2, -0.3, 0.2, 0.5]), dim=-1)"
   ]
  },
  {
   "cell_type": "code",
   "execution_count": 47,
   "id": "04abafe7",
   "metadata": {
    "slideshow": {
     "slide_type": "slide"
    }
   },
   "outputs": [
    {
     "data": {
      "text/plain": [
       "tensor([1.7128e-02, 8.5274e-04, 3.1371e-04, 4.6558e-02, 9.3515e-01])"
      ]
     },
     "execution_count": 47,
     "metadata": {},
     "output_type": "execute_result"
    }
   ],
   "source": [
    "torch.softmax(torch.tensor([0.1, -0.2, -0.3, 0.2, 0.5])*10, dim=-1)"
   ]
  },
  {
   "cell_type": "code",
   "execution_count": null,
   "id": "9df07b74",
   "metadata": {
    "slideshow": {
     "slide_type": "slide"
    }
   },
   "outputs": [],
   "source": [
    "B = 4 # batch_size\n",
    "T = 8 # context_length\n",
    "I = 2 # head_input_dim\n",
    "H = 16 # head_size\n",
    "O = 6 # head_output_dim\n",
    "\n",
    "x = torch.randn(B, T, I)\n",
    "\n",
    "key = nn.Linear(I, H, bias=False)\n",
    "query = nn.Linear(I, H, bias=False)\n",
    "value = nn.Linear(I, O, bias=False)\n",
    "k = key(x)   # (B, T, H)\n",
    "q = query(x) # (B, T, H)\n",
    "weights =  q @ k.transpose(1, 2) * H**-0.5\n",
    "\n",
    "tril = torch.tril(torch.ones(T, T))\n",
    "weights = weights.masked_fill(tril == 0, float('-inf'))\n",
    "weights = F.softmax(weights, dim=-1)\n",
    "\n",
    "v = value(x)\n",
    "out = weights @ v\n",
    "out.shape"
   ]
  },
  {
   "cell_type": "code",
   "execution_count": null,
   "id": "5dd6e020",
   "metadata": {
    "slideshow": {
     "slide_type": "slide"
    }
   },
   "outputs": [],
   "source": [
    "class Head(nn.Module):\n",
    "    def __init__(self, \n",
    "                 context_length, \n",
    "                 head_input_dim, \n",
    "                 head_size, \n",
    "                 head_output_dim):\n",
    "        super().__init__()\n",
    "        self.key = nn.Linear(head_input_dim, head_size, bias=False)\n",
    "        self.query = nn.Linear(head_input_dim, head_size, bias=False)\n",
    "        self.value = nn.Linear(head_input_dim, head_output_dim, bias=False)\n",
    "\n",
    "        # Some Pytorch way of defining a matrix without trainable parameters \n",
    "        self.register_buffer('tril', torch.tril(torch.ones(context_length, context_length)))     \n",
    "        \n",
    "        self.context_length = context_length\n",
    "        self.head_input_dim = head_input_dim\n",
    "        self.head_size = head_size\n",
    "        self.head_output_dim = head_output_dim\n",
    "\n",
    "    def forward(self, x):\n",
    "        B, T, C = x.shape\n",
    "        # if training: B = batch_size, else B = 1\n",
    "        # T = context_length\n",
    "        # I = head_input_dim\n",
    "        # H = head_size\n",
    "        # O = head_output_dim\n",
    "        \n",
    "        k = self.key(x)   # (B, T, H)\n",
    "        q = self.query(x) # (B, T, H)\n",
    "        v = self.value(x) # (B, T, O)\n",
    "        attention_scores = q @ k.transpose(1,2) # (B, T, H) @ (B, H, T) -> (B, T, T)\n",
    "        mask = torch.triu(torch.ones(self.context_length, self.context_length), diagonal=1)\n",
    "        masked_attention_scores = attention_scores.masked_fill(self.tril[:T, :T] == 0, float('-inf')) # (B, T, T)\n",
    "        attention_weights = torch.softmax(masked_attention_scores * self.head_size**-0.5, dim=-1) # (B, T, T)\n",
    "        context_vectors = attention_weights @ v # (B, T, T) @ (B, T, O) -> (B, T, O)\n",
    "        return context_vectors"
   ]
  },
  {
   "cell_type": "markdown",
   "id": "de88169d",
   "metadata": {},
   "source": [
    "**Positional encoding**: There is no notion of space, the attention mechanism acts over a **set** of vectors. This is why we need to positionally encode tokens. Two solutions:\n",
    "* Learning an embedding of positions\n",
    "* Using a fixed embedding"
   ]
  },
  {
   "cell_type": "markdown",
   "id": "e4b1d319",
   "metadata": {},
   "source": [
    "This model is just an illustration of what can be done with a single head plus positional encoding."
   ]
  },
  {
   "cell_type": "code",
   "execution_count": null,
   "id": "26617128",
   "metadata": {},
   "outputs": [],
   "source": [
    "class SingleHeadPositional(nn.Module):  \n",
    "    def __init__(self, \n",
    "                 context_length, \n",
    "                 n_embed, \n",
    "                 head_size, \n",
    "                 head_output_dim):\n",
    "        super().__init__()\n",
    "        self.token_embedding_table = nn.Embedding(n_token, n_embed)\n",
    "        self.position_embedding_table = nn.Embedding(context_length, n_embed)\n",
    "        self.self_attention_head = Head(context_length = context_length,\n",
    "                                        head_input_dim = n_embed, \n",
    "                                        head_size = head_size, \n",
    "                                        head_output_dim = head_output_dim)\n",
    "        self.last_head = nn.Linear(head_output_dim, n_token)\n",
    "        self.context_length = context_length\n",
    "        self.type = \"sliding windows\"\n",
    "        \n",
    "    def forward(self, idx, y=None):\n",
    "        B, T = idx.shape\n",
    "        # T = context_length        \n",
    "        # I = head_input_dim = n_embed\n",
    "        # H = head_size\n",
    "        # O = head_output_dim\n",
    "\n",
    "        tok_emb = self.token_embedding_table(idx) # (B, T, I)\n",
    "        pos_emb = self.position_embedding_table(torch.arange(T)) # (T, I)\n",
    "        x = tok_emb + pos_emb # (B, T, I)\n",
    "\n",
    "        x = self.self_attention_head(x) # (B, T, H)\n",
    "        logits = self.last_head(x) # (B, T, n_token)\n",
    "\n",
    "        if y is None:\n",
    "            loss = None\n",
    "        else:\n",
    "            logits = logits.view(B * T, n_token)\n",
    "            y = y.view(B * T)\n",
    "            loss = F.cross_entropy(logits, y)\n",
    "        return logits, loss        "
   ]
  },
  {
   "cell_type": "code",
   "execution_count": null,
   "id": "8868ea86",
   "metadata": {},
   "outputs": [],
   "source": [
    "model = SingleHeadPositional(context_length = 32, \n",
    "                             n_embed = 256, \n",
    "                             head_size = 64, \n",
    "                             head_output_dim = 128)\n",
    "print(sum(p.numel() for p in model.parameters())/1e6, ' M parameters')"
   ]
  },
  {
   "cell_type": "code",
   "execution_count": null,
   "id": "66f8eb77",
   "metadata": {},
   "outputs": [],
   "source": [
    "model.to(device)\n",
    "\n",
    "train(model, \n",
    "      n_iterations = 2000, \n",
    "      learning_rate = 1e-3, \n",
    "      eval_interval = 1000, \n",
    "      eval_iters = 100)"
   ]
  },
  {
   "cell_type": "code",
   "execution_count": null,
   "id": "e5059583",
   "metadata": {
    "slideshow": {
     "slide_type": "slide"
    }
   },
   "outputs": [],
   "source": [
    "print(generate(model, model.context_length, max_new_tokens = 200))"
   ]
  },
  {
   "cell_type": "markdown",
   "id": "7e7f8f91",
   "metadata": {},
   "source": [
    "### From single head to multi headed attention"
   ]
  },
  {
   "cell_type": "code",
   "execution_count": null,
   "id": "4899c679",
   "metadata": {
    "slideshow": {
     "slide_type": "slide"
    }
   },
   "outputs": [],
   "source": [
    "class MultiHeadAttention(nn.Module):\n",
    "    \"\"\" multiple heads of self-attention in parallel \"\"\"\n",
    "\n",
    "    def __init__(self, context_length, n_embed, n_head, head_size, head_output_dim):\n",
    "        super().__init__()\n",
    "        self.heads = nn.ModuleList([Head(context_length = context_length,\n",
    "                                         head_input_dim = n_embed, \n",
    "                                         head_size = head_size, \n",
    "                                         head_output_dim = head_output_dim) for _ in range(n_head)])\n",
    "        self.proj = nn.Linear(n_head * head_output_dim, n_embed)\n",
    "        self.context_length = context_length\n",
    "\n",
    "    def forward(self, x):\n",
    "        out = torch.cat([h(x) for h in self.heads], dim=-1)\n",
    "        out = self.proj(out)\n",
    "        return out"
   ]
  },
  {
   "cell_type": "markdown",
   "id": "a17efdd9",
   "metadata": {},
   "source": [
    "We enrich the previous model with parallel heads, called multi head."
   ]
  },
  {
   "cell_type": "code",
   "execution_count": null,
   "id": "20bdc433",
   "metadata": {},
   "outputs": [],
   "source": [
    "class MultiHeadPositional(nn.Module):    \n",
    "    def __init__(self, context_length, n_embed, n_head, head_size, head_output_dim):\n",
    "        super().__init__()\n",
    "        self.token_embedding_table = nn.Embedding(n_token, n_embed)\n",
    "        self.position_embedding_table = nn.Embedding(context_length, n_embed)\n",
    "        self.self_attention_heads = MultiHeadAttention(context_length = context_length,\n",
    "                                                       n_embed = n_embed,\n",
    "                                                       n_head = n_head,\n",
    "                                                       head_size = head_size,\n",
    "                                                       head_output_dim = head_output_dim) \n",
    "        self.last_head = nn.Linear(n_embed, n_token)\n",
    "        self.context_length = context_length\n",
    "        self.type = \"sliding windows\"\n",
    "\n",
    "    def forward(self, idx, y=None):\n",
    "        B, T = idx.shape\n",
    "        # B = either batch_size or 1\n",
    "        # T = context_length\n",
    "        # I = head_input_dim \n",
    "        \n",
    "        tok_emb = self.token_embedding_table(idx) # (B, T, I)\n",
    "        pos_emb = self.position_embedding_table(torch.arange(T)) # (T, I)\n",
    "        x = tok_emb + pos_emb # (B, T, I)\n",
    "\n",
    "        x = self.self_attention_heads(x) # (B, T, n_embed)\n",
    "        logits = self.last_head(x) # (B, T, n_token)\n",
    "        \n",
    "        if y is None:\n",
    "            loss = None\n",
    "        else:\n",
    "            logits = logits.view(B * T, n_token)\n",
    "            y = y.view(B * T)\n",
    "            loss = F.cross_entropy(logits, y)\n",
    "        return logits, loss        "
   ]
  },
  {
   "cell_type": "code",
   "execution_count": null,
   "id": "e881a6cf",
   "metadata": {},
   "outputs": [],
   "source": [
    "model = MultiHeadPositional(context_length = 64,\n",
    "                            n_embed = 128,\n",
    "                            n_head = 8, \n",
    "                            head_size = 32,\n",
    "                            head_output_dim = 128)\n",
    "print(sum(p.numel() for p in model.parameters())/1e6, ' M parameters')\n",
    "model.to(device)\n",
    "train(model, \n",
    "      n_iterations = 2000, \n",
    "      learning_rate = 1e-3, \n",
    "      eval_interval = 1000, \n",
    "      eval_iters = 100)\n",
    "print(generate(model, max_new_tokens = 200))"
   ]
  },
  {
   "cell_type": "markdown",
   "id": "d23cb518",
   "metadata": {},
   "source": [
    "## Some deep learning magic to make training easier"
   ]
  },
  {
   "cell_type": "markdown",
   "id": "5b3e839b",
   "metadata": {},
   "source": [
    "### Normalization layers"
   ]
  },
  {
   "cell_type": "code",
   "execution_count": null,
   "id": "2143c177",
   "metadata": {},
   "outputs": [],
   "source": [
    "class LayerNorm(nn.Module):\n",
    "    def __init__(self, dim, eps=1e-5, momentum=0.1):\n",
    "        self.eps = eps\n",
    "        self.gamma = torch.ones(dim)\n",
    "        self.beta = torch.zeros(dim)\n",
    "\n",
    "    def __call__(self, x):\n",
    "        xmean = x.mean(1, keepdim=True) # batch mean\n",
    "        xvar = x.var(1, keepdim=True) # batch variance\n",
    "        xhat = (x - xmean) / torch.sqrt(xvar + self.eps) # normalize to unit variance\n",
    "        self.out = self.gamma * xhat + self.beta\n",
    "        return self.out\n",
    "\n",
    "    def parameters(self):\n",
    "        return [self.gamma, self.beta]"
   ]
  },
  {
   "cell_type": "code",
   "execution_count": null,
   "id": "97e8e815",
   "metadata": {},
   "outputs": [],
   "source": [
    "module = LayerNorm(100)\n",
    "x = torch.randn(32, 100) # batch size 32 of 100-dimensional vectors\n",
    "x = module(x)\n",
    "x.shape"
   ]
  },
  {
   "cell_type": "markdown",
   "id": "f2803adc",
   "metadata": {},
   "source": [
    "We compute the mean and standard deviation of one (the first) feature across all batch inputs:"
   ]
  },
  {
   "cell_type": "code",
   "execution_count": null,
   "id": "c4513f10",
   "metadata": {},
   "outputs": [],
   "source": [
    "x[:,0].mean(), x[:,0].std()\n",
    "# NOT normalised"
   ]
  },
  {
   "cell_type": "markdown",
   "id": "4e94829e",
   "metadata": {},
   "source": [
    "Now, the mean and standard deviation of the features for a single input from the batch:"
   ]
  },
  {
   "cell_type": "code",
   "execution_count": null,
   "id": "46667312",
   "metadata": {},
   "outputs": [],
   "source": [
    "x[0,:].mean(), x[0,:].std()\n",
    "# normalised"
   ]
  },
  {
   "cell_type": "markdown",
   "id": "a7371f05",
   "metadata": {},
   "source": [
    "### Sequential blocks"
   ]
  },
  {
   "cell_type": "code",
   "execution_count": null,
   "id": "7c48b111",
   "metadata": {},
   "outputs": [],
   "source": [
    "class FeedFoward(nn.Module):\n",
    "    \"\"\" a simple linear layer followed by a non-linearity \"\"\"\n",
    "\n",
    "    def __init__(self, n_embed, n_hidden):\n",
    "        super().__init__()\n",
    "        self.net = nn.Sequential(\n",
    "            nn.Linear(n_embed, n_hidden),\n",
    "            nn.Tanh(),\n",
    "            nn.Linear(n_hidden, n_embed),\n",
    "        )\n",
    "\n",
    "    def forward(self, x):\n",
    "        return self.net(x)"
   ]
  },
  {
   "cell_type": "code",
   "execution_count": null,
   "id": "f9cfcef6",
   "metadata": {
    "id": "M5CvobiQ0pLr"
   },
   "outputs": [],
   "source": [
    "class Block(nn.Module):\n",
    "    \"\"\" Transformer block: communication followed by computation \"\"\"\n",
    "\n",
    "    def __init__(self, context_length, n_embed, n_head, head_size, head_output_dim, n_hidden):\n",
    "        super().__init__()\n",
    "        self.self_attention_heads = MultiHeadAttention(context_length = context_length,\n",
    "                                                       n_embed = n_embed,\n",
    "                                                       n_head = n_head,\n",
    "                                                       head_size = head_size,\n",
    "                                                       head_output_dim = head_output_dim)\n",
    "        self.ffwd = FeedFoward(n_hidden = n_hidden, n_embed = n_embed)\n",
    "        self.ln1 = nn.LayerNorm(n_embed)\n",
    "        self.ln2 = nn.LayerNorm(n_embed)\n",
    "\n",
    "    def forward(self, x):\n",
    "        # here are skip connections, also called residual connections\n",
    "        # they help training deep neural networks by adding a pathway to the input\n",
    "        x = x + self.self_attention_heads(x)\n",
    "\n",
    "        # normalization layer (before self attention heads)\n",
    "        x = self.ln1(x)\n",
    "        \n",
    "        # and again skip connections:\n",
    "        x = x + self.ffwd(x)\n",
    "\n",
    "        # and again normalization layer\n",
    "        x = self.ln2(x)\n",
    "\n",
    "        return x"
   ]
  },
  {
   "cell_type": "markdown",
   "id": "fc8a62a2",
   "metadata": {},
   "source": [
    "This is the full model, almost as in the **Attention is all you need** paper (see below for differences)."
   ]
  },
  {
   "cell_type": "code",
   "execution_count": null,
   "id": "9993f0db",
   "metadata": {
    "slideshow": {
     "slide_type": "slide"
    }
   },
   "outputs": [],
   "source": [
    "class LanguageModel(nn.Module):\n",
    "    def __init__(self, \n",
    "                 context_length,\n",
    "                 n_head, \n",
    "                 head_size, \n",
    "                 head_output_dim, \n",
    "                 n_embed,\n",
    "                 n_hidden, \n",
    "                 n_blocks):\n",
    "        super().__init__()\n",
    "        self.token_embedding_table = nn.Embedding(n_token, n_embed)\n",
    "        self.position_embedding_table = nn.Embedding(context_length, n_embed)\n",
    "        self.blocks = nn.Sequential(*[Block(context_length, n_embed, n_head, head_size, head_output_dim, n_hidden) for _ in range(n_blocks)])\n",
    "        self.ln_f = nn.LayerNorm(n_embed)\n",
    "        self.lm_head = nn.Linear(n_embed, n_token)\n",
    "        self.context_length = context_length\n",
    "        self.type = \"sliding windows\"\n",
    "\n",
    "    def forward(self, x, y=None):\n",
    "        B, T = x.shape\n",
    "        # T = context_length\n",
    "        # I = n_embed\n",
    "\n",
    "        tok_emb = self.token_embedding_table(x) # (B, T, I)\n",
    "        pos_emb = self.position_embedding_table(torch.arange(T)) # (T, I)\n",
    "        x = tok_emb + pos_emb # (B, T, I)\n",
    "        x = self.blocks(x) # (B, T, I)\n",
    "        x = self.ln_f(x) # (B, T, I)\n",
    "        logits = self.lm_head(x) # (B, T, n_token)\n",
    "\n",
    "        if y is None:\n",
    "            loss = None\n",
    "        else:\n",
    "            B, T, _ = logits.shape\n",
    "            logits = logits.view(B*T, n_token)\n",
    "            y = y.view(B*T)\n",
    "            loss = F.cross_entropy(logits, y)\n",
    "\n",
    "        return logits, loss"
   ]
  },
  {
   "cell_type": "code",
   "execution_count": null,
   "id": "b30d1d06",
   "metadata": {},
   "outputs": [],
   "source": [
    "model = LanguageModel(context_length = 64,\n",
    "                      n_head = 6, \n",
    "                      head_size = 16,\n",
    "                      head_output_dim = 16,\n",
    "                      n_embed = 64,\n",
    "                      n_hidden = 4 * 64,\n",
    "                      n_blocks = 4)\n",
    "print(sum(p.numel() for p in model.parameters())/1e6, ' M parameters')\n",
    "model.to(device)\n",
    "train(model, \n",
    "      n_iterations = 2000, \n",
    "      learning_rate = 1e-3, \n",
    "      eval_interval = 1000, \n",
    "      eval_iters = 100)"
   ]
  },
  {
   "cell_type": "code",
   "execution_count": null,
   "id": "b5fb3994",
   "metadata": {
    "slideshow": {
     "slide_type": "slide"
    }
   },
   "outputs": [],
   "source": [
    "print(generate(model, model.context_length, max_new_tokens = 500))"
   ]
  },
  {
   "cell_type": "markdown",
   "id": "c3753b37",
   "metadata": {
    "slideshow": {
     "slide_type": "slide"
    }
   },
   "source": [
    "Machine translation requires an encoder-decoder architecture:\n",
    "* the encoder encodes the input, using the exact same code as above, except that self attention is not masked (all tokens communicate with each other). To get an \"encoder\" attention block we just delete the single line that does masking with `tril`, allowing all tokens to communicate. This block here is called a \"decoder\" attention block because it has triangular masking, and is usually used in autoregressive settings, like language modeling.\n",
    "* the decoder is still auto-regressive, meaning it's conditioned on what's already been generated, but also on the result of the encoder. More specifically, the keys and values in each attention layer are coming from the encoder itself. The term \"self-attention\" means that the keys and values are produced from the same source as queries. In \"cross-attention\", the queries still get produced from x, but the keys and values come from some other, external source (e.g. an encoder module).\n",
    "\n",
    "ChatGPT (or prompting) requires a fine-tuning phase (we covered only pre-training) where the network aligns with prompts and expected answers. It's based on reinforcement learning and a reward model for correct answers to prompts."
   ]
  },
  {
   "cell_type": "markdown",
   "id": "c942564b",
   "metadata": {},
   "source": [
    "The full Transformer architecture (credits: original paper, Attention is all you need)"
   ]
  },
  {
   "attachments": {
    "image.png": {
     "image/png": "[encoded data removed]"
    }
   },
   "cell_type": "markdown",
   "id": "1a71c99f",
   "metadata": {},
   "source": [
    "![image.png](attachment:image.png)"
   ]
  },
  {
   "cell_type": "markdown",
   "id": "3dc0fc8c",
   "metadata": {},
   "source": [
    "Next steps? Read this code: https://github.com/karpathy/minGPT/ and this one: https://github.com/karpathy/nanoGPT\n",
    "They have a lot more teeth than the current one."
   ]
  }
 ],
 "metadata": {
  "celltoolbar": "Format de la Cellule Texte Brut",
  "kernelspec": {
   "display_name": "Python 3 (ipykernel)",
   "language": "python",
   "name": "python3"
  },
  "language_info": {
   "codemirror_mode": {
    "name": "ipython",
    "version": 3
   },
   "file_extension": ".py",
   "mimetype": "text/x-python",
   "name": "python",
   "nbconvert_exporter": "python",
   "pygments_lexer": "ipython3",
   "version": "3.10.12"
  }
 },
 "nbformat": 4,
 "nbformat_minor": 5
}
